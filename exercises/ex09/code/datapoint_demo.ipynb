{
 "cells": [
  {
   "cell_type": "markdown",
   "id": "fd587bff-dff0-4b71-8f97-cfe499e8b57d",
   "metadata": {},
   "source": [
    "# Aggregations and Searching\n",
    "This notebook is designed as a demonstration of the capabilities of the `ceda-datapoint` package, which uses pystac-client for searching and outputs xarray datasets. It can read from both Kerchunk and CFA-type aggregations and will in future also read from Zarr stores"
   ]
  },
  {
   "cell_type": "markdown",
   "id": "fc44e24c-3111-4285-8afc-1d974b9c816f",
   "metadata": {},
   "source": [
    "### Installing a venv as a kernel\n",
    "```\n",
    ">>> python -m venv my-venv\n",
    ">>> pip install ceda-datapoint ipykernel\n",
    ">>> python -m ipykernel install --user --name=my-venv\n",
    "```"
   ]
  },
  {
   "cell_type": "markdown",
   "id": "5c07ddf5-5c5a-41a2-8f5c-f9d766abc7da",
   "metadata": {},
   "source": [
    "## Accessing the Client"
   ]
  },
  {
   "cell_type": "code",
   "execution_count": null,
   "id": "0dca0f48-ff7d-4b55-aa75-226c662d37fb",
   "metadata": {},
   "outputs": [],
   "source": [
    "from ceda_datapoint import DataPointClient"
   ]
  },
  {
   "cell_type": "code",
   "execution_count": null,
   "id": "df9b6a27-34dc-41f1-85c1-dc47aca616fb",
   "metadata": {},
   "outputs": [],
   "source": [
    "# Create a DataPointClient for searching\n",
    "client = DataPointClient()\n",
    "client.info()"
   ]
  },
  {
   "cell_type": "markdown",
   "id": "11b43419-fd41-44d2-8c27-663b5bfa5bf4",
   "metadata": {},
   "source": [
    "## Help with searches"
   ]
  },
  {
   "cell_type": "code",
   "execution_count": null,
   "id": "53194030-b306-49ca-9b5a-59d23d8c51c7",
   "metadata": {},
   "outputs": [],
   "source": []
  },
  {
   "cell_type": "code",
   "execution_count": null,
   "id": "08583b80-a711-4c47-bad4-f37f4fd0bcae",
   "metadata": {},
   "outputs": [],
   "source": []
  },
  {
   "cell_type": "markdown",
   "id": "59d28c1a-59b8-4760-a8d8-84eb2435fcf5",
   "metadata": {},
   "source": [
    "## Example Search"
   ]
  },
  {
   "cell_type": "code",
   "execution_count": null,
   "id": "9f29c43f-2be4-4578-a2a5-9154b4b2e2e0",
   "metadata": {},
   "outputs": [],
   "source": [
    "search = client.search(\n",
    "    collections=['cmip6'],\n",
    "    query=[\n",
    "        'experiment_id=ssp585',\n",
    "        'activity_id=ScenarioMIP',\n",
    "        'institution_id=KIOST',\n",
    "    ],\n",
    "    max_items = 10\n",
    ")\n",
    "search"
   ]
  },
  {
   "cell_type": "code",
   "execution_count": null,
   "id": "6e943c90-5187-40d5-a9eb-1d78ef6db537",
   "metadata": {},
   "outputs": [],
   "source": []
  },
  {
   "cell_type": "code",
   "execution_count": null,
   "id": "a744d5c8-99bc-435e-837d-c85ce3155d88",
   "metadata": {},
   "outputs": [],
   "source": []
  },
  {
   "cell_type": "code",
   "execution_count": null,
   "id": "06a2fd5f-1b87-4e09-a020-19cf297878e5",
   "metadata": {},
   "outputs": [],
   "source": []
  },
  {
   "cell_type": "code",
   "execution_count": null,
   "id": "016c209b-27c9-4c1c-b179-c5fcfa03aabf",
   "metadata": {},
   "outputs": [],
   "source": []
  },
  {
   "cell_type": "code",
   "execution_count": null,
   "id": "de734249-dda2-4798-a2d6-557d67814889",
   "metadata": {},
   "outputs": [],
   "source": [
    "cluster = search.collect_cloud_assets()\n",
    "cluster"
   ]
  },
  {
   "cell_type": "code",
   "execution_count": null,
   "id": "5724143a-66ac-4cb4-9fd4-e899063b669d",
   "metadata": {},
   "outputs": [],
   "source": [
    "product = cluster['CMIP6.ScenarioMIP.KIOST.KIOST-ESM.ssp585.r1i1p1f1.Amon.vas.gr1.v20191106-reference_file']\n",
    "product"
   ]
  },
  {
   "cell_type": "code",
   "execution_count": null,
   "id": "88dbd52d-0ac5-43b9-bb09-bd2b161c935c",
   "metadata": {},
   "outputs": [],
   "source": [
    "ds = product.open_dataset()\n",
    "ds"
   ]
  },
  {
   "cell_type": "markdown",
   "id": "ef24992e-499a-4086-ae8c-6bb81edf4eec",
   "metadata": {},
   "source": [
    "## Plot Example Data"
   ]
  },
  {
   "cell_type": "code",
   "execution_count": null,
   "id": "604b75fa-4c55-4b74-a890-a5d7f9a355cc",
   "metadata": {},
   "outputs": [],
   "source": [
    "ds['vas'].long_name"
   ]
  },
  {
   "cell_type": "code",
   "execution_count": null,
   "id": "f25b1f61-3899-4f1c-9e4d-7963f8a83a9f",
   "metadata": {},
   "outputs": [],
   "source": [
    "ds['vas'].sel(time='2020-01-17').squeeze().plot.imshow()"
   ]
  },
  {
   "cell_type": "code",
   "execution_count": null,
   "id": "0fd47a03-82bf-49af-9260-d6d4c05f45ef",
   "metadata": {},
   "outputs": [],
   "source": []
  }
 ],
 "metadata": {
  "kernelspec": {
   "display_name": "jdpt",
   "language": "python",
   "name": "jdpt"
  },
  "language_info": {
   "codemirror_mode": {
    "name": "ipython",
    "version": 3
   },
   "file_extension": ".py",
   "mimetype": "text/x-python",
   "name": "python",
   "nbconvert_exporter": "python",
   "pygments_lexer": "ipython3",
   "version": "3.12.2"
  }
 },
 "nbformat": 4,
 "nbformat_minor": 5
}
