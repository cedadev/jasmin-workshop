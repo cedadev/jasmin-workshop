{
 "cells": [
  {
   "cell_type": "markdown",
   "metadata": {},
   "source": [
    "# Finding and plotting NetCDF data in the CEDA Archive\n",
    "\n",
    "This Notebook demonstrates a few capabilities of the JASMIN Notebook service:\n",
    "* Reading data from the CEDA Archive\n",
    "* Analysing/processing data in the Notebook\n",
    "* Plotting the results interactively\n",
    "* Writing the outputs to your JASMIN `$HOME` directory\n",
    "* Adding inline documentation"
   ]
  },
  {
   "cell_type": "markdown",
   "metadata": {},
   "source": [
    "## Task 1: Find and read ECMWF ERA5 2-metre temperature data\n",
    "\n",
    "This task involves two parts: (1) Finding the relevant ECMWF ERA5 file paths and (2) Reading a file path pattern into an `xarray Dataset` object.\n",
    "\n",
    "Part (1) can be done in various ways. For the sake of simplicity, we have already searched the CEDA catalogue and found this dataset record:\n",
    "\n",
    "https://catalogue.ceda.ac.uk/uuid/8aa70a91378d455ea63a2a1953858a7f\n",
    "\n",
    "Following the \"Download\" link on the page reveals a browseable data path that reveals the 2-metre temperature data can be found under:\n",
    "\n",
    "https://data.ceda.ac.uk/badc/ecmwf-era51/data/oper/an_sfc/2005/01/01 (e.g. file: `ecmwf-era51_oper_an_sfc_200501010000.2t.nc`)\n",
    "\n",
    "On the file system, this translates to this pattern:\n",
    "\n",
    "`/badc/ecmwf-era51/data/oper/an_sfc/2005/01/01/ecmwf-era51_oper_an_sfc_20050101*.2t.nc`\n",
    "    \n",
    "For Part (2)...\n",
    "\n",
    "Import the `xarray` library as `xr`:"
   ]
  },
  {
   "cell_type": "code",
   "execution_count": null,
   "metadata": {},
   "outputs": [],
   "source": [
    "import xarray as xr"
   ]
  },
  {
   "cell_type": "markdown",
   "metadata": {},
   "source": [
    "Use `xr.open_mfdataset(...)` to read in the file pattern defined above to read in the hourly 2-metre temperature files."
   ]
  },
  {
   "cell_type": "code",
   "execution_count": null,
   "metadata": {},
   "outputs": [],
   "source": [
    "file_pattern = \"/badc/ecmwf-era51/data/oper/an_sfc/2005/01/01/ecmwf-era51_oper_an_sfc_20050101*.2t.nc\"\n",
    "\n",
    "# Or you could make a generic template in a function\n",
    "def get_template(year, month, day, variable):\n",
    "    return (f\"/badc/ecmwf-era51/data/oper/an_sfc/{year}/{month}/{day}/\"\n",
    "            f\"ecmwf-era51_oper_an_sfc_{year}{month}{day}*.{variable}.nc\")\n",
    "\n",
    "year, month, day = \"2005\", \"01\", \"01\"\n",
    "var_id = \"2t\" # 2-metre temperature\n",
    "file_pattern = get_template(year, month, day, var_id)\n",
    "file_pattern"
   ]
  },
  {
   "cell_type": "markdown",
   "metadata": {},
   "source": [
    "Check we have some valid files using `glob`"
   ]
  },
  {
   "cell_type": "code",
   "execution_count": null,
   "metadata": {},
   "outputs": [],
   "source": [
    "import glob\n",
    "files = glob.glob(file_pattern)\n",
    "len(files)"
   ]
  },
  {
   "cell_type": "markdown",
   "metadata": {},
   "source": [
    "Open the files as a single `xarray Dataset` and take a look at its structure, attributes and time values:"
   ]
  },
  {
   "cell_type": "code",
   "execution_count": null,
   "metadata": {},
   "outputs": [],
   "source": [
    "ds = xr.open_mfdataset(file_pattern)\n",
    "ds"
   ]
  },
  {
   "cell_type": "code",
   "execution_count": null,
   "metadata": {},
   "outputs": [],
   "source": [
    "ds.t2m.attrs"
   ]
  },
  {
   "cell_type": "code",
   "execution_count": null,
   "metadata": {},
   "outputs": [],
   "source": [
    "ds.t2m.time"
   ]
  },
  {
   "cell_type": "markdown",
   "metadata": {},
   "source": [
    "## Task 2: Calculate the max and min over all times in the dataset\n",
    "\n",
    "You can access the 2-metre temperature variable using: `ds.t2m`.\n",
    "\n",
    "The `ds.t2m Dataset` has its own methods: `max()` and `min()`. They require the argument `axis=0` in order to specify calculating the _max_ and _min_ only over the time axies.\n",
    "\n",
    "Calculate two new variables:\n",
    "1. `daily_max` - the maximum over all times\n",
    "2. `daily_min` - the minimum over all times"
   ]
  },
  {
   "cell_type": "code",
   "execution_count": null,
   "metadata": {},
   "outputs": [],
   "source": [
    "daily_max = ds.t2m.max(axis=0)\n",
    "daily_min = ds.t2m.min(axis=0)"
   ]
  },
  {
   "cell_type": "markdown",
   "metadata": {},
   "source": [
    "Check the `shape` attribute of the `daily_max` and `daily_min` variables to ensure they are 2D (i.e. `time` has been removed)."
   ]
  },
  {
   "cell_type": "code",
   "execution_count": null,
   "metadata": {},
   "outputs": [],
   "source": [
    "daily_max.shape, daily_min.shape"
   ]
  },
  {
   "cell_type": "markdown",
   "metadata": {},
   "source": [
    "## Task 3: Plot the daily maximum and minimum\n",
    "\n",
    "The `daily_max` and `daily_min` variables now both have a `plot()` method. You can plot each of them individually."
   ]
  },
  {
   "cell_type": "code",
   "execution_count": null,
   "metadata": {},
   "outputs": [],
   "source": [
    "daily_max.plot()"
   ]
  },
  {
   "cell_type": "code",
   "execution_count": null,
   "metadata": {},
   "outputs": [],
   "source": [
    "daily_min.plot()"
   ]
  },
  {
   "cell_type": "markdown",
   "metadata": {},
   "source": [
    "You can difference them and plot a map of that variable"
   ]
  },
  {
   "cell_type": "code",
   "execution_count": null,
   "metadata": {},
   "outputs": [],
   "source": [
    "diff = daily_max - daily_min\n",
    "diff.plot()"
   ]
  },
  {
   "cell_type": "markdown",
   "metadata": {},
   "source": [
    "## Task 4: Write the outputs to your JASMIN `$HOME` directory\n",
    "\n",
    "Create an `outputs` directory in your `$HOME` directory"
   ]
  },
  {
   "cell_type": "code",
   "execution_count": null,
   "metadata": {},
   "outputs": [],
   "source": [
    "import os\n",
    "output_dir = f\"{os.environ['HOME']}/outputs\"\n",
    "\n",
    "if not os.path.isdir(output_dir):\n",
    "    os.makedirs(output_dir)"
   ]
  },
  {
   "cell_type": "markdown",
   "metadata": {},
   "source": [
    "Write the `daily_max` and `daily_min` variables to NetCDF files, using the `to_netcdf()` method on each variable. The method requires the output file path as the argument.\n"
   ]
  },
  {
   "cell_type": "code",
   "execution_count": null,
   "metadata": {},
   "outputs": [],
   "source": [
    "daily_max.to_netcdf(f\"{output_dir}/max_t2m.nc\")"
   ]
  },
  {
   "cell_type": "code",
   "execution_count": null,
   "metadata": {},
   "outputs": [],
   "source": [
    "daily_min.to_netcdf(f\"{output_dir}/min_t2m.nc\")"
   ]
  },
  {
   "cell_type": "markdown",
   "metadata": {},
   "source": [
    "Check that the output files have been written to the `outputs` directory"
   ]
  },
  {
   "cell_type": "code",
   "execution_count": null,
   "metadata": {},
   "outputs": [],
   "source": [
    "os.listdir(output_dir)"
   ]
  },
  {
   "cell_type": "markdown",
   "metadata": {},
   "source": [
    "## Task 5: Adding inline documentation\n",
    "\n",
    "For each cell, you can select either \"Code\", \"Markdown\" or \"Raw\" in the toolbar at the top of the notebook. If you select \"Markdown\", then the cell is no longer interpreted as Python code. Instead, it is interpreted as a mark-up language called `markdown`. This allows sophisticated formatting of text, images, code blocks etc., as described here:\n",
    "\n",
    "https://guides.github.com/features/mastering-markdown/\n",
    "\n",
    "In order to add Markdown cells to an existing notebook, click on the cell above the one you wish to annotate, then click the `+` button on the toolbar. Then change the cell format to \"Markdown\" in the drop-down menu.\n",
    "\n",
    "Once you have completed the content, press `Shift+Enter` to see the formatted version. If you need to edit a formatted cell, just double-click into it."
   ]
  }
 ],
 "metadata": {
  "kernelspec": {
   "display_name": "Python 3 + Jaspy",
   "language": "python",
   "name": "jaspy"
  },
  "language_info": {
   "codemirror_mode": {
    "name": "ipython",
    "version": 3
   },
   "file_extension": ".py",
   "mimetype": "text/x-python",
   "name": "python",
   "nbconvert_exporter": "python",
   "pygments_lexer": "ipython3",
   "version": "3.7.1"
  }
 },
 "nbformat": 4,
 "nbformat_minor": 4
}
